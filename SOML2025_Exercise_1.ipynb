{
  "cells": [
    {
      "cell_type": "markdown",
      "metadata": {
        "id": "qpi2zTwUrh9I"
      },
      "source": [
        "# ELEN90088 System Optimisation and Machine Learning, 2025\n",
        "\n",
        "# Exercise 1  \n",
        "## Due date: <u> 23:59, Monday the 31st March, 2025 </u>\n",
        "\n",
        "## Submission guidline:\n",
        "\n",
        "* One submission per group by the due date on LMS.\n",
        "* Answer the exercise questions in this Python notebook itself.\n",
        "* Export your notebook file (.ipynb) as a PDF file, on which we give marks and comments. This means that each group should submit two versions of the exercise report (.ipynb file and PDF).\n",
        "* Demonstrators will conduct a brief oral assessment for selected groups in subsequent workshop. Details will be announced on LMS.\n",
        "* Regarding the use of LLM and other generative AI tools: refer to information in the introductory slides.\n",
        "* This exercise contains one question (Question 7) with $2$ bonus marks. So the highest marks you could obtain from this Exercise are $10+2=12$ marks.\n",
        "\n",
        "\n"
      ]
    },
    {
      "cell_type": "markdown",
      "metadata": {
        "id": "k2I55S9fsrCZ"
      },
      "source": [
        "## Question 1 (plot convex and non-convex functions) (Mark: 1 point)\n",
        "\n",
        "### Practice Question\n",
        "Plot one concave and one non-convex (neither convex nor concave) function of your choosing (preferably one in 2 dimensions and the other in 3 dimensions so that it can be visualised, check e.g. [this tutorial](https://matplotlib.org/2.0.2/mpl_toolkits/mplot3d/tutorial.html) for hints). Provide their formulas below.\n",
        "\n",
        "*Hint: an interesting and well-known function is [Rosenbrock function].(https://en.wikipedia.org/wiki/Rosenbrock_function)* It is already built-in to [Scipy optimize](https://docs.scipy.org/doc/scipy/reference/optimize.html#benchmark-problems) as a benchmark. *You can keep your answer simple and don't need to spend too much time on this practice question.*\n",
        "\n"
      ]
    },
    {
      "cell_type": "markdown",
      "metadata": {
        "id": "tA1qVfs9tEw0"
      },
      "source": [
        "## Question 2 (decide if a polynomial is convex) (Mark: 2 points)\n",
        "\n",
        "Consider a polynomial with $2$ variable\n",
        "$$\n",
        "p(x)=\\sum_{i,j: i+j\\leq d} c_{ij}x_1^{i}x_2^{j}\n",
        "$$ where the sum is over all nonnegative integer pairs $i,j$ whose sum is less or equal to $d$. We call $d$ the *degree* of the polynomial.\n",
        "\n",
        "To understand the notation better, consider a polynomial of degree $2$ given by $ h(x)= x_1x_2+2x_2^2+3x_1-1$. You should convince yourself that $h(x)$  can be obtained by setting $c_{11}=1, c_{02}=2, c_{10}=3, c_{00}=-1$ and all other coefficients $c_{ij}$ to $0$ in $p(x)$.\n",
        "\n",
        "### Answer the following questions:\n",
        "\n",
        "1. how to decide the convexity of a  first-order ($d=1$) polynomial?\n",
        "2. how to decide the convexity of a  quadratic ($d=2$) polynomial?\n",
        "3. how to decide the convexity of a cubic ($d=3$) polynomial?\n",
        "4. extend the result in (3) to all odd-order ($d$ is odd) polynomial.\n",
        "5. how to decide the convexity of a quartic ($d=4$) polynomial? What is the difference/difficulty compared to the quadratic case? In particular, try to plot a convex quartic polynomial and a concave quartic polynomial in $1$ variable.\n",
        "\n",
        "*Comment: as shown in [this paper](https://web.mit.edu/~a_a_a/Public/Publications/convexity_nphard.pdf), unless NP=P, it is computationally hard to check the convexity of a polynomial with order equal or larger than $4$. So in general, it is computationaly difficult to decide if a function is convex.*\n",
        "\n",
        "\n"
      ]
    },
    {
      "cell_type": "markdown",
      "metadata": {
        "id": "g_G0jX0rtyM2"
      },
      "source": [
        "## Question 3 (Optimization package) (Mark: 1 point)\n",
        "\n",
        "[CVXPY](https://www.cvxpy.org/index.html) is an open source Python-embedded modeling language for convex optimization problems. This exercise aims to familiarze you with this package.\n",
        "\n",
        "\n",
        "*Note: you are __not__ required to use CVXPY for your exercises or project. There are other Python-based optimization package you can use, including [Scipy](https://docs.scipy.org/doc/scipy/tutorial/optimize.html) or [Pyomo](https://www.pyomo.org/). If you decide to use a different optimization package, you can solve this exercise with one you choose. CVXPY lets you express your problem in a natural way that follows the math, rather than in the restrictive standard form required by solvers, but it has its own restrictions. In particular, CVXPY does not support non-convex optimization whereas other packages (e.g. Scipy) does.*\n",
        "\n",
        "\n",
        "Before addressing this problem, we suggest you read through the first section of the [User Guide](https://www.cvxpy.org/tutorial/index.html) and a few [Basic examples](https://www.cvxpy.org/examples/index.html). They should already give you a pretty good idea how a convex optimization problem can be solved using CVXPY.\n",
        "\n",
        "Consider a simple scalar linear dynamical system\n",
        "$$\n",
        "x_{t+1}=ax_t+ u_t, \\quad t=1,2,\\ldots\n",
        "$$ where $|a|>1$. We call $x_t$ the state of the system, and $u_t$ the control input. The objective is to minimize the cost $C$ defined as\n",
        "$$\n",
        "C=\\sum_{t=1}^T x_t^2+\\sum_{t=1}^{T-1}\\alpha u_t^2.\n",
        "$$\n",
        "\n",
        "Given the parameters $x_1=1, a=1.5, \\alpha =2$,  and $T=3$, find the optimal control input $u_1, u_2$ that minimizes the cost by rewriting the problem as a [quadratic optimization problem](https://www.cvxpy.org/examples/basic/quadratic_program.html).\n",
        "\n",
        "*Hint: there are at least two ways to formulate your problem: you can  formulate a problem where the optimization variable is just $(u_1, u_2)$; you can also formulate a problem where the optimization variable is $(u_1, u_2, x_1, x_2, x_3)$. See if you can use the second (more interesting) problem formulation.*\n"
      ]
    },
    {
      "cell_type": "markdown",
      "metadata": {
        "id": "acdVdCsjtfri"
      },
      "source": [
        "## Question 4 (Aloha communication protocol) (Mark: 2 points)\n",
        "\n",
        "**Aloha** is a well-known random access or _MAC_ (Media/multiple Access Control) communication protocol. It enables multiple nodes to share a broadcast channel without any additional signaling in a distributed manner. Unlike _FDMA_ or _TDMA_ (frequency or time-division multiple access), the channel is not divided into segments beforehand and collisions of packets due to simultaneous transmissions by nodes are allowed.\n",
        "\n",
        "In slotted Aloha, the nodes can only transmit at the beginning of time slots, which are kept by a global/shared clock. The operations of slotted ALOHA in each node are decribed as follows:\n",
        "\n",
        "* If there is only one frame in a slot, then the transmission is successful and the slot is said to be a successful slot.\n",
        "* If two or more frames collide in a slot, then the transmission is failed and a re-transmission is considered for each frame involved in the collision. The node will retransmit its frame in each subsequent slot with probability $p$ until the frame is transmitted without a collision, where $0 \\leq p \\leq 1$.\n",
        "\n",
        "Assume that there are $N$ nodes and each node independently attempts to transmit a frame in each slot with probability $p$. For one slot, let $S$ denote the _success probability_ that this slot is a successful slot.\n",
        "\n",
        "### Answer the following questions:\n",
        "1. Provide an expression of $S$ defined above.\n",
        "2. To maximise the $S$, define the optimisation problem to find the optimal value $p$. Note that the constraint $0 \\leq p \\leq 1$\n",
        "should be taken into consideration. Clearly identify the objective and decision variable(s). Is the objective convex or concave? Show through derivation. Find the optimality conditions for this problem.\n",
        "3. When $N$ tends to infinity, what is the maximal success probability $S$?\n"
      ]
    },
    {
      "cell_type": "markdown",
      "metadata": {
        "id": "wKrjN_iVtjtX"
      },
      "source": [
        "## Question 5 (Geometric programming: power control in wireless network) (Mark: 2 points)\n",
        "\n",
        "### Example: Power Control in Wireless Communication\n",
        "\n",
        " *Adapted from Boyd, Kim, Vandenberghe, and Hassibi,* \"[A Tutorial on Geometric Programming](https://web.stanford.edu/~boyd/papers/pdf/gp_tutorial.pdf).\"\n",
        "\n",
        "The [power control problem in wireless communications](http://winlab.rutgers.edu/~narayan/PAPERS/PC%20for%20Wireless%20Data.pdf) aims to minimise the total transmitter power available across $N$ trasmitters while concurrently achieving good (or a pre-defined minimum) performance.\n",
        "\n",
        "The technical setup is as follows. Each transmitter $i$ transmits with a power level $P_i$ bounded below and above by a minimum and maximum level. The power of the signal received from transmitter $j$ at receiver $i$ is $G_{ij} P_{j}$, where $G_{ij} > 0$ represents the path gain (often loss) from transmitter $j$ to receiver $i$. The signal power at the intended receiver $i$ is $G_{ii} P_i$, and the interference power at receiver $i$ from other transmitters is given by $\\sum_{k \\neq i} G_{ik}P_k$. The (background) noise power at receiver $i$ is $\\sigma_i$. Thus, the _Signal to Interference and  Noise Ratio (SINR)_ of the $i$th receiver-transmitter pair is\n",
        "\n",
        "$$ S_i = \\frac{G_{ii}P_i}{\\sum_{k \\neq i} G_{ik}P_k + \\sigma_i }. $$\n",
        "\n",
        "The minimum SINR represents a performance lower bound for this system, $S^{\\text min}$.\n",
        "\n",
        "The resulting optimisation problem is formulated as\n",
        "\n",
        "$$\n",
        "\\begin{array}{ll}\n",
        "\\min_{P} & \\sum_{i=1}^N P_i \\\\\n",
        "\\text{subject to} & P^{min} \\leq P_i \\leq P^{max}, \\; \\forall i \\\\\n",
        "& \\dfrac{G_{ii}P_i}{\\sigma_i + \\sum_{k \\neq i} G_{ik}P_k} \\geq S^{min} , \\; \\forall i \\\\\n",
        "\\end{array}\n",
        "$$\n",
        "\n",
        "### Answer the following questions: Wireless Power Control\n",
        "\n",
        "Let $N=10$, $P^{min}=0.1$, $P^{max}=5$, $\\sigma=0.2$ (same for all). Create a random path loss matrix $G$, where off-diagonal elements are between $0.1$ and $0.9$ and the diagonal elements are equal to $1$.\n",
        "1. Convert the problem into standard Geometric Programming form.\n",
        "2. Solve the problem first with $S^{min}=0$, and we recommand to use *cvxpy* or *scipy*. Output and plot the power levels and SINRs that you obtain.\n",
        "3. What happens if you choose an $S^{min}$ that is larger? Solve the problem again and document your results. What happens if you choose a very large $S^{min}$? Observe and comment.\n",
        "4. Suppose that there are only 3 transmitter-receiver pairs, e.g., $N=3$, if the SINR of the $i$th receiver-transmitter pair is\n",
        "\n",
        "$$ S_i = \\frac{G_{ii}P_i}{0.5 \\sum_{j \\neq i}^{N} (G_{ij} P_j \\sum_{k \\neq i, k \\neq j}^{N} G_{ik} P_k )+ \\sigma_i }. $$\n",
        "\n",
        "and other settings remain the same, please try to convert the problem into standard Geometric Programming form again.\n",
        "\n",
        "**Note:**\n",
        "* if you are in the minority of people who have problem installing *cvxpy* or *scipy*, then you can use other packages or even Matlab.\n",
        "* the problem in (1) can be converted to either Geometric Programming or Linear Programming form, while the problem in (4) can not be converted to Linear Programming anymore."
      ]
    },
    {
      "cell_type": "markdown",
      "metadata": {
        "id": "PE-Zx2lUt3Y1"
      },
      "source": [
        "## Question 6 (Gradient descent) (Mark: 2 points)\n",
        "\n",
        "Consider the Gradient descent (GD) algorithm:\n",
        "$$ \\boldsymbol{x}_{t+1} = \\boldsymbol{x}_t - \\alpha_t \\nabla f(\\boldsymbol{x}_t), $$\n",
        "where $\\boldsymbol{x}_t \\in \\mathbb{R}^n$ is the variable vector at the $t$-th iteration and $\\alpha_t$ is the step size. In this question, we investigate the impact of the step size $\\alpha_t$ adopted in the GD algorithm. Consider the following two objective functions:\n",
        "1. Quadratic function: $ f(x_1,x_2) = x_1^2 + x_1 + 2x_2^2 $.\n",
        "2. Non-convex function: $ f(x_1,x_2) = \\sin(x_1) + 0.5x_2^2 $.\n",
        "\n",
        "Minimise them by implementing the GD algorithm, with various choices of step size as listed below:\n",
        "1. Constant step size: The step size is fixed throughout the optimization.\n",
        "2. Vanishing step size: The step size decreases over time, i.e., $ \\alpha_t = \\frac{\\alpha_0}{1 + \\lambda t} $, where $\\alpha_0$ is the initial step size, $ t $ is the iteration index and $\\lambda$ is the decay rate.\n",
        "3. Backtracking line search: The step size is updated by\n",
        "$$ \\alpha = \\beta * \\alpha $$\n",
        "as long as the following Armijo condition is satisfied\n",
        "$$ f(\\boldsymbol{x}_t - \\alpha \\nabla f(\\boldsymbol{x}_t)) > f(\\boldsymbol{x}_t) - \\frac{\\alpha}{2} \\| \\nabla f(\\boldsymbol{x}_t) \\|^2, $$\n",
        "where $0 < \\beta < 1$ is a shrinkage factor.\n",
        "4. Exact line search (only for the quadratic function in (1)): This finds the optimal step size at each iteration, i.e.,\n",
        "$$ \\min_{\\alpha \\geq 0} f(\\boldsymbol{x}_t - \\alpha \\nabla f(\\boldsymbol{x}_t))$$\n",
        "\n",
        "Implement GD with different choices of step size. You can experiment with different choices of parameters, and think about how to best illusrate and compare your results. For example, consider how many iterations you should run, and what stopping criterion you should take.\n",
        "\n"
      ]
    },
    {
      "cell_type": "markdown",
      "metadata": {
        "id": "9lSTilrgt8wG"
      },
      "source": [
        "## Question 7 (Design problem) (Bonus mark: 2 points)\n",
        "\n",
        "The aim of this exercise is to improve your ability to identify, model, and solve optimization problems by applying mathematical techniques to real-world scenarios.\n",
        "\n",
        "Step 1. Choose a (possibly engineering-related) problem from your coursework, personal interests, or daily experiences that can be addressed through optimization.\n",
        "\n",
        "Step 2. Translate the chosen scenario into a mathematical optimization problem by:\n",
        "\n",
        "1. Defining variables: Identify the variables that can be controlled or adjusted.\n",
        "\n",
        "2. Establishing the objective function: determine the function that needs to be maximized or minimized (e.g., cost, time, efficiency).\n",
        "\n",
        "3. setting Constraints: List the limitations or requirements that must be satisfied (e.g., resource limits, safety standards).\n",
        "\n",
        "Step 3. Solve the optimization. Use a solver (e.g. via scipy) if you need to do it numerically.\n",
        "\n",
        "Your answer to this question should provide sufficient deetails to all three steps above.\n"
      ]
    }
  ],
  "metadata": {
    "colab": {
      "provenance": []
    },
    "kernelspec": {
      "display_name": "Python 3",
      "name": "python3"
    },
    "language_info": {
      "name": "python"
    }
  },
  "nbformat": 4,
  "nbformat_minor": 0
}
